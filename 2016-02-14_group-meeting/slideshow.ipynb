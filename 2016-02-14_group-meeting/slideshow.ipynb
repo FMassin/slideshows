{
 "cells": [
  {
   "cell_type": "markdown",
   "metadata": {
    "slideshow": {
     "slide_type": "slide"
    }
   },
   "source": [
    "# A Better Earthquake Analysis\n",
    "Fred Massin [fmassin@mun.ca](fmassin@mun.ca)"
   ]
  },
  {
   "cell_type": "markdown",
   "metadata": {
    "slideshow": {
     "slide_type": "slide"
    }
   },
   "source": [
    "# Earthquake location\n",
    "\n",
    "<img src=\"materials/F1.large.jpg\" alt=\"Location\" style=\"width: 450px;\"/>\n",
    "\n",
    "1. Seismic waves are simplified to the minimal expression: \n",
    "    - arrival time\n",
    "    - uncertainty \n",
    "2. Hypocenter parameters are inverted by minimizing travel time residuals. \n",
    "\n",
    "(Stamps & Smalley 2006)"
   ]
  },
  {
   "cell_type": "markdown",
   "metadata": {
    "slideshow": {
     "slide_type": "subslide"
    }
   },
   "source": [
    "# Back projection\n",
    "\n",
    "<img src=\"materials/BP_artifacts2.png\" alt=\"Back-projection\" style=\"width: 450px;\"/>\n",
    "\n",
    "0. Pre-calculation of travel times.\n",
    "1. Heterogeneity effect are filtered out of seismic waves :\n",
    "    - either by selecting data in a narrow area and by low pass filtering.\n",
    "    - or by very low pass filtering.\n",
    "2. Source location probability is established in the cells of a grid by stacking wave amplitude at corresponding travel times.\n",
    "\n",
    "(IRIS DMC 2011)"
   ]
  },
  {
   "cell_type": "markdown",
   "metadata": {
    "slideshow": {
     "slide_type": "subslide"
    }
   },
   "source": [
    "# Source Scanning Approach\n",
    "Or back-projection of simplified waveform.\n",
    "\n",
    "<img src=\"materials/kao.png\" alt=\"ssa\" style=\"width: 450px;\"/>\n",
    "\n",
    "0. Pre-calculation of travel times.\n",
    "1. Waveform simplification for characteristic functions (CF) of body-waves arrivals.\n",
    "2. Source location probability is established in the cells of a grid by stacking CF amplitude at corresponding travel times.\n",
    "\n",
    "(Kao & Shan 2004, 2007 ; Kao et al., 2009 ; Liao et al., 2012 and Langet et al., 2014)."
   ]
  },
  {
   "cell_type": "markdown",
   "metadata": {
    "slideshow": {
     "slide_type": "slide"
    }
   },
   "source": [
    "## Continuous seismic data scanning \n",
    "Probabilistic estimate of body-wave arrival properties with one or several characteristic functions.\n",
    "1. Arrival type :\n",
    "    - P wave \n",
    "    - S wave"
   ]
  },
  {
   "cell_type": "markdown",
   "metadata": {
    "slideshow": {
     "slide_type": "fragment"
    }
   },
   "source": [
    "2. Amplitude.\n",
    "3. Polarization.\n",
    "4. etc"
   ]
  },
  {
   "cell_type": "markdown",
   "metadata": {
    "slideshow": {
     "slide_type": "subslide"
    }
   },
   "source": [
    "### Existing work\n",
    "- STA/LTA (Allen, 1982)⁠ is a simple characteristic function (3 parameters) to detect abnormal bursts.\n",
    "    - Baer and Kradolfer (1987) use the envelop function of STA/LTA derivative (2 parameters, sensitivity to the changes in the high frequencies)\n",
    "        - Lomax et al. (2012)⁠ introduce a multiband approach of Baer and Kradolfer (1987).\n",
    "    - RPA/LPA (Zahradník et al., 2015)⁠.\n",
    "\n",
    "\n",
    "- Kurtosis (high order statistics, Saragiotis et al., 2002; Gentili and Mi- chelini, 2006; Kuperkoch et al., 2010) is the fourth statistical moment of a distribution (the first, second and third statistical moments being the mean, variance and skewness respectively). It is a non-dimensional quantity that measures the peakedness (positive kurtosis values) or flatness (negative kurtosis values) of a distribution relative to a normal distribution.\n"
   ]
  },
  {
   "cell_type": "markdown",
   "metadata": {
    "slideshow": {
     "slide_type": "subslide"
    }
   },
   "source": [
    "<img src=\"materials/Zhizhin.png\" alt=\"ssa\" style=\"width: 450px;\"/>\n",
    "- Component Energy Correlation Method (Nagano et al., 1989 ; Zhizhin et al. 2009)⁠."
   ]
  },
  {
   "cell_type": "markdown",
   "metadata": {
    "slideshow": {
     "slide_type": "fragment"
    }
   },
   "source": [
    "### Plan\n",
    "- Implement CECM into ObsPy python library.\n",
    "- Develop a general seismic source scanning algorithm for hypocenter and focal mechanism analysis."
   ]
  },
  {
   "cell_type": "markdown",
   "metadata": {
    "slideshow": {
     "slide_type": "slide"
    }
   },
   "source": [
    "## Earthquake properties scanning\n",
    "Probabilistic estimate of earthquake physical properties.\n"
   ]
  },
  {
   "cell_type": "markdown",
   "metadata": {
    "slideshow": {
     "slide_type": "fragment"
    }
   },
   "source": [
    "- hypocenter\n",
    "    1. location\n",
    "    2. relative location\n",
    "- focal mechanism\n",
    "    1. DC\n",
    "    2. Tensile ?\n",
    "<img src=\"materials/67_bestiaire_sources.gif\" alt=\"example Aki_Richards plot\" style=\"width: 450px;\"/>\n",
    "Finck et al. (2003)"
   ]
  },
  {
   "cell_type": "markdown",
   "metadata": {
    "slideshow": {
     "slide_type": "slide"
    }
   },
   "source": [
    "### Focal mechanism analysis\n",
    "Staking body-wave wavelets.\n",
    "\n",
    "<img src=\"materials/Weginger.png\" alt=\"DC scanner\" style=\"width: 450px;\"/>\n",
    "Weginger & Brückl (2011)"
   ]
  },
  {
   "cell_type": "markdown",
   "metadata": {
    "collapsed": false,
    "slideshow": {
     "slide_type": "subslide"
    }
   },
   "source": [
    "### Focal mechanism analysis\n",
    "- The radiation pattern of P and S wave can be calculated using Aki and Richards (2002, eq. 4.29).\n",
    "```\n",
    "from source import SeismicSource\n",
    "example = SeismicSource([0,0,0,1,0,0])\n",
    "example.Aki_Richards.plot()\n",
    "```\n",
    "<img src=\"materials/AR_plot.png\" alt=\"example Aki_Richards plot\" style=\"width: 300px;\"/>\n"
   ]
  },
  {
   "cell_type": "markdown",
   "metadata": {
    "collapsed": true,
    "slideshow": {
     "slide_type": "fragment"
    }
   },
   "source": [
    "- The radiation pattern of P and S of tensile source can be simplified using Vavryèuk (2001).\n",
    "    ```\n",
    "    example.Vavryeuk.plot()\n",
    "    ```\n",
    "    <img src=\"materials/V_plot.png\" alt=\"example Vavryeuk plot\" style=\"width: 300px;\"/>"
   ]
  },
  {
   "cell_type": "markdown",
   "metadata": {
    "slideshow": {
     "slide_type": "slide"
    }
   },
   "source": [
    "### Tensile source analysis\n",
    "Mode 1  = 66% CLVD + 33 % ISO\n",
    "```\n",
    "example = SeismicSource([0,1,0,0.01,0.,0.])\n",
    "example.Vavryeuk.plot()\n",
    "```\n",
    "\n",
    "<img src=\"materials/V_plot_DC1.png\" alt=\"Vavryek SP plot\" style=\"width: 300px;\"/>\n",
    "<img src=\"materials/V_plot_DC1_S.png\" alt=\"Vavryek SP plot\" style=\"width: 300px;\"/>\n"
   ]
  },
  {
   "cell_type": "markdown",
   "metadata": {
    "slideshow": {
     "slide_type": "subslide"
    }
   },
   "source": [
    "### Tensile - shear source\n",
    "<img src=\"materials/V_plot_DC38.png\" alt=\"Vavryek SP plot\" style=\"width: 300px;\"/>\n",
    "<img src=\"materials/V_plot_DC38_S.png\" alt=\"Vavryek SP plot\" style=\"width: 300px;\"/>"
   ]
  },
  {
   "cell_type": "markdown",
   "metadata": {
    "slideshow": {
     "slide_type": "subslide"
    }
   },
   "source": [
    "### Shear - tensile source\n",
    "<img src=\"materials/V_plot_DC89.png\" alt=\"Vavryek SP plot\" style=\"width: 300px;\"/>\n",
    "<img src=\"materials/V_plot_DC89_S.png\" alt=\"Vavryek SP plot\" style=\"width: 300px;\"/>"
   ]
  },
  {
   "cell_type": "markdown",
   "metadata": {
    "slideshow": {
     "slide_type": "subslide"
    }
   },
   "source": [
    "### Shear - tensile sources\n",
    "<img src=\"materials/V_plot_SP.png\" alt=\"Vavryek SP plot\" style=\"width: 400px;\"/>"
   ]
  },
  {
   "cell_type": "markdown",
   "metadata": {
    "slideshow": {
     "slide_type": "fragment"
    }
   },
   "source": [
    "<img src=\"materials/AR_plot_SP.png\" alt=\"Vavryek SP plot\" style=\"width: 400px;\"/>"
   ]
  },
  {
   "cell_type": "markdown",
   "metadata": {
    "slideshow": {
     "slide_type": "slide"
    }
   },
   "source": [
    "## S-waves : Aki & Richards Vs Vavryèuk\n",
    "<img src=\"materials/AR_plot_DC89_S.png\" alt=\"Aki P plot\" style=\"width: 300px;\"/>\n",
    "<img src=\"materials/V_plot_DC89_S.png\" alt=\"Vavryek P plot\" style=\"width: 300px;\"/>"
   ]
  },
  {
   "cell_type": "markdown",
   "metadata": {
    "slideshow": {
     "slide_type": "subslide"
    }
   },
   "source": [
    "## P-waves : Aki & Richards Vs Vavryèuk\n",
    "<img src=\"materials/AR_plot_DC89.png\" alt=\"Aki P plot\" style=\"width: 300px;\"/>\n",
    "<img src=\"materials/V_plot_DC89.png\" alt=\"Vavryek P plot\" style=\"width: 300px;\"/>"
   ]
  },
  {
   "cell_type": "markdown",
   "metadata": {
    "slideshow": {
     "slide_type": "slide"
    }
   },
   "source": [
    "# Plan\n",
    "- Implement CECM into ObsPy python library.\n",
    "- Develop a general seismic source scanning algorithm for hypocenter and focal mechanism analysis."
   ]
  },
  {
   "cell_type": "markdown",
   "metadata": {
    "slideshow": {
     "slide_type": "fragment"
    }
   },
   "source": [
    "- Develop a DC source scanning algorithm.\n",
    "- Investigate classic relative location method (has implications for relative moment calculations)."
   ]
  }
 ],
 "metadata": {
  "celltoolbar": "Slideshow",
  "kernelspec": {
   "display_name": "Python 2",
   "language": "python",
   "name": "python2"
  },
  "language_info": {
   "codemirror_mode": {
    "name": "ipython",
    "version": 2
   },
   "file_extension": ".py",
   "mimetype": "text/x-python",
   "name": "python",
   "nbconvert_exporter": "python",
   "pygments_lexer": "ipython2",
   "version": "2.7.11"
  }
 },
 "nbformat": 4,
 "nbformat_minor": 0
}
