{
 "cells": [
  {
   "cell_type": "markdown",
   "metadata": {
    "slideshow": {
     "slide_type": "slide"
    }
   },
   "source": [
    "# A Better Bodywave Analysis\n",
    "Fred Massin [fmassin@mun.ca](fmassin@mun.ca)"
   ]
  },
  {
   "cell_type": "markdown",
   "metadata": {
    "slideshow": {
     "slide_type": "slide"
    }
   },
   "source": [
    "# The body-wave recognition methods\n",
    "## Existing work\n",
    "\n",
    "<center>**Table 1**: The body-wave recognition methods</center>\n",
    "<img src=\"material/informed-uninformed.pdf\" alt=\"Location\" style=\"height: 200px;\"/>\n",
    "\n",
    "\n",
    "1. Several methods existing based on common pre-processor.\n",
    "2. St/Lt$_a$ implemented in python (ObsPy) with trace iteration. "
   ]
  },
  {
   "cell_type": "markdown",
   "metadata": {
    "slideshow": {
     "slide_type": "subslide"
    }
   },
   "source": [
    "## Better ?\n",
    "<center>**Table 1**: A class hierarchy for uninformed triggering algorithms</center>\n",
    "\n",
    "pre-processor|multiplexor|processor|post-processor\n",
    "-:|:-:|:-:|-\n",
    "RMS|LT-ST|Ratio|derivation\n",
    "Average|RW-LW|Correlation|Kurtosis\n",
    "|Components||\n",
    "**attribute**|**method**|**class**|**class**\n",
    "\n",
    "1. Enable combining and systematic test.\n",
    "2. More precise and more sensitive characteristic functions."
   ]
  },
  {
   "cell_type": "markdown",
   "metadata": {
    "slideshow": {
     "slide_type": "slide"
    }
   },
   "source": [
    "# A better Interoperability\n"
   ]
  },
  {
   "cell_type": "markdown",
   "metadata": {
    "slideshow": {
     "slide_type": "slide"
    }
   },
   "source": [
    "# A better wavelet extraction"
   ]
  },
  {
   "cell_type": "markdown",
   "metadata": {
    "slideshow": {
     "slide_type": "slide"
    }
   },
   "source": [
    "# DC analysis"
   ]
  }
 ],
 "metadata": {
  "celltoolbar": "Slideshow",
  "kernelspec": {
   "display_name": "Python 2",
   "language": "python",
   "name": "python2"
  },
  "language_info": {
   "codemirror_mode": {
    "name": "ipython",
    "version": 2
   },
   "file_extension": ".py",
   "mimetype": "text/x-python",
   "name": "python",
   "nbconvert_exporter": "python",
   "pygments_lexer": "ipython2",
   "version": "2.7.11"
  }
 },
 "nbformat": 4,
 "nbformat_minor": 0
}
